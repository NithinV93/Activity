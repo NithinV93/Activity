{
 "cells": [
  {
   "cell_type": "markdown",
   "metadata": {
    "id": "4z_Z-K1tlrS7"
   },
   "source": [
    "## 1. Complete the following code to find the area of an equilateral triangle. Output should be as displayed"
   ]
  },
  {
   "cell_type": "code",
   "execution_count": 53,
   "metadata": {
    "id": "rP2qFD_SlrS_"
   },
   "outputs": [
    {
     "name": "stdout",
     "output_type": "stream",
     "text": [
      "Enter the side of the equilateral triangle: 12\n",
      "Area of equilateral triangle is  62.35382907247958\n"
     ]
    }
   ],
   "source": [
    "import math\n",
    "side = float(input(\"Enter the side of the equilateral triangle: \"))\n",
    "area = ((math.sqrt(3))/4)*pow(side,2)\n",
    "print('Area of equilateral triangle is ', area)"
   ]
  },
  {
   "cell_type": "markdown",
   "metadata": {
    "id": "TjVKjIfclrTB"
   },
   "source": [
    "## 2. Write a program to count the number of each characters in a string"
   ]
  },
  {
   "cell_type": "code",
   "execution_count": 26,
   "metadata": {
    "id": "JY5seVUQlrTC"
   },
   "outputs": [
    {
     "name": "stdout",
     "output_type": "stream",
     "text": [
      "Enter a stringThrissur\n",
      "Numer of characters in string is   {'T': 1, 'h': 1, 'r': 2, 'i': 1, 's': 2, 'u': 1}\n"
     ]
    }
   ],
   "source": [
    "name = input('Enter a string')\n",
    "count={}\n",
    "for i in name:\n",
    "    if i in count:\n",
    "        count[i]+=1\n",
    "    else:\n",
    "        count[i]=1\n",
    "print('Numer of characters in string is  ', count)\n",
    "        "
   ]
  },
  {
   "cell_type": "markdown",
   "metadata": {
    "id": "l3LCULfklrTD"
   },
   "source": [
    "## Write a program to find the area and perimeter of a rectangle using functions"
   ]
  },
  {
   "cell_type": "code",
   "execution_count": 27,
   "metadata": {
    "id": "8haQD8edlrTD"
   },
   "outputs": [
    {
     "name": "stdout",
     "output_type": "stream",
     "text": [
      "Length of rectangle :12\n",
      "Breadth of rectangle:10\n",
      "Area of rectangle is 120.0\n",
      "Perimeter of rectangle is 44.0\n"
     ]
    }
   ],
   "source": [
    "def Rectangle(length,breadth):\n",
    "    area=length*breadth\n",
    "    print('Area of rectangle is',area )\n",
    "        \n",
    "    perimeter=2*(length+breadth)\n",
    "    print('Perimeter of rectangle is',perimeter)\n",
    "        \n",
    "length=float(input('Length of rectangle :'))\n",
    "breadth=float(input('Breadth of rectangle:'))          \n",
    "\n",
    "Rectangle(length,breadth)"
   ]
  },
  {
   "cell_type": "markdown",
   "metadata": {
    "id": "JHK4ZdsflrTE"
   },
   "source": [
    "## 4. Write a program to print the fibonacci series till a specified number"
   ]
  },
  {
   "cell_type": "code",
   "execution_count": 28,
   "metadata": {
    "id": "LyBEj-4SlrTE"
   },
   "outputs": [
    {
     "name": "stdout",
     "output_type": "stream",
     "text": [
      "Enter the number: 4\n",
      "Fibonacci series :\n",
      "0\n",
      "1\n",
      "1\n",
      "2\n"
     ]
    }
   ],
   "source": [
    "n=int(input('Enter the number: '))\n",
    "a=0\n",
    "b=1\n",
    "sum=0\n",
    "count=1\n",
    "print('Fibonacci series :')\n",
    "while(count<=n):\n",
    "    print(sum)\n",
    "    count+=1\n",
    "    a=b\n",
    "    b=sum\n",
    "    sum=a+b"
   ]
  },
  {
   "cell_type": "markdown",
   "metadata": {
    "id": "u4uBUcQKlrTE"
   },
   "source": [
    "## 5. Complete the following code to find the minimum of 3 number using conditional statements. Output should be as displayed"
   ]
  },
  {
   "cell_type": "code",
   "execution_count": 30,
   "metadata": {
    "id": "XdZwrZjIlrTF",
    "scrolled": true
   },
   "outputs": [
    {
     "name": "stdout",
     "output_type": "stream",
     "text": [
      "Enter three numbers followed by  : 3 5 9\n",
      "First number : 3\n",
      "Second number : 5\n",
      "Third number : 9\n",
      "3  is smallest\n"
     ]
    }
   ],
   "source": [
    "a,b,c = input(\"Enter three numbers followed by  : \").split()\n",
    "\n",
    "print(\"First number :\",a)\n",
    "print(\"Second number :\",b)\n",
    "print(\"Third number :\",c)\n",
    "\n",
    "if a==b and b==c:\n",
    "    print(\"Entered numbers are equal!!!\")\n",
    "\n",
    "elif a<b and a<c:    \n",
    "    print(a,\" is smallest\")\n",
    "\n",
    "elif b<a and b<c:\n",
    "    print(b,\" is smallest\")\n",
    "\n",
    "elif c<a and c<b:\n",
    "    print(c,\" is smallest\")"
   ]
  },
  {
   "cell_type": "markdown",
   "metadata": {
    "id": "aR_CnToWlrTG"
   },
   "source": [
    "## 6. Write a program to print star pyramid. The number of rows should be taken as input from the user"
   ]
  },
  {
   "cell_type": "code",
   "execution_count": 52,
   "metadata": {
    "id": "M37A-buplrTG"
   },
   "outputs": [
    {
     "name": "stdout",
     "output_type": "stream",
     "text": [
      "Enter the number of rows10\n",
      "         * \n",
      "        * * \n",
      "       * * * \n",
      "      * * * * \n",
      "     * * * * * \n",
      "    * * * * * * \n",
      "   * * * * * * * \n",
      "  * * * * * * * * \n",
      " * * * * * * * * * \n",
      "* * * * * * * * * * \n"
     ]
    }
   ],
   "source": [
    "rows= int(input('Enter the number of rows'))\n",
    "k = rows-1\n",
    "for i in range(rows):\n",
    "    for j in range (0,k):\n",
    "        print(\" \", end=\"\")\n",
    "    k = k - 1\n",
    "    for j in range(i+1):\n",
    "              print('* ', end=\"\")\n",
    "    print()\n",
    "        "
   ]
  },
  {
   "cell_type": "markdown",
   "metadata": {
    "id": "tlY6aFWBlrTH"
   },
   "source": [
    "## 7. Complete the following code to convert hour into seconds. Output should be as displayed"
   ]
  },
  {
   "cell_type": "code",
   "execution_count": 31,
   "metadata": {
    "id": "YOZQFk7FlrTH"
   },
   "outputs": [
    {
     "name": "stdout",
     "output_type": "stream",
     "text": [
      "Enter time in hours2\n",
      "2  Hour is equal to 7200  Seconds\n"
     ]
    }
   ],
   "source": [
    "def to_seconds(t):\n",
    "    t=t*3600\n",
    "    return t\n",
    "\n",
    "time_in_hours = int(input('Enter time in hours')) \n",
    "print(time_in_hours ,\" Hour is equal to\" ,to_seconds(time_in_hours) ,\" Seconds\")"
   ]
  },
  {
   "cell_type": "markdown",
   "metadata": {
    "id": "CnYorNiLlrTI"
   },
   "source": [
    "## 8. Write a program to print multiplication table as below"
   ]
  },
  {
   "cell_type": "code",
   "execution_count": 36,
   "metadata": {
    "id": "dPQqDPuDlrTI"
   },
   "outputs": [
    {
     "name": "stdout",
     "output_type": "stream",
     "text": [
      "Enter the number8\n",
      "Enter the limit12\n",
      "8 * 1 = 8\n",
      "8 * 2 = 16\n",
      "8 * 3 = 24\n",
      "8 * 4 = 32\n",
      "8 * 5 = 40\n",
      "8 * 6 = 48\n",
      "8 * 7 = 56\n",
      "8 * 8 = 64\n",
      "8 * 9 = 72\n",
      "8 * 10 = 80\n",
      "8 * 11 = 88\n",
      "8 * 12 = 96\n"
     ]
    }
   ],
   "source": [
    "n=int(input('Enter the number'))\n",
    "l=int(input('Enter the limit'))\n",
    "for i in range(1,l+1):\n",
    "    print(n,'*',i,'=',n*i)"
   ]
  },
  {
   "cell_type": "markdown",
   "metadata": {
    "id": "Fiaez8iblrTI"
   },
   "source": [
    "## 9. Write a program to take your 5 favorite food as list and print each as 'I like Biriyani'"
   ]
  },
  {
   "cell_type": "code",
   "execution_count": 44,
   "metadata": {
    "id": "39W1zFX7lrTJ"
   },
   "outputs": [
    {
     "name": "stdout",
     "output_type": "stream",
     "text": [
      "Enter five favourite food items \n",
      "biriyani\n",
      "shakes\n",
      "chips \n",
      "fried rice\n",
      "puffs\n",
      " I like  biriyani\n",
      " I like  shakes\n",
      " I like  chips \n",
      " I like  fried rice\n",
      " I like  puffs\n"
     ]
    }
   ],
   "source": [
    "list=[]\n",
    "print('Enter five favourite food items ')\n",
    "for i in range(0,5):\n",
    "    food=input()\n",
    "    \n",
    "    list.append(food)\n",
    "print(' I like ', list[0])\n",
    "print(' I like ', list[1])\n",
    "print(' I like ', list[2])\n",
    "print(' I like ', list[3])\n",
    "print(' I like ', list[4])"
   ]
  },
  {
   "cell_type": "markdown",
   "metadata": {
    "id": "3vlcDNNEP7d_"
   },
   "source": [
    "## 10. Find error(s) in the following code(if any) and rewrite code.\n",
    "\n"
   ]
  },
  {
   "cell_type": "code",
   "execution_count": null,
   "metadata": {
    "id": "coREkcY3P9sG"
   },
   "outputs": [],
   "source": [
    "x= int(“Enter value of x:”)\n",
    "for in range [0,10]:\n",
    "     if x=y\n",
    "          print(\"They are equal\")\n",
    "     else:\n",
    "         Print( \"They are unequal\")"
   ]
  },
  {
   "cell_type": "code",
   "execution_count": 42,
   "metadata": {},
   "outputs": [
    {
     "name": "stdout",
     "output_type": "stream",
     "text": [
      "Enter value of x(0-9):9\n",
      "9 and 0 They are unequal\n",
      "9 and 1 They are unequal\n",
      "9 and 2 They are unequal\n",
      "9 and 3 They are unequal\n",
      "9 and 4 They are unequal\n",
      "9 and 5 They are unequal\n",
      "9 and 6 They are unequal\n",
      "9 and 7 They are unequal\n",
      "9 and 8 They are unequal\n",
      "9 and 9 They are equal\n"
     ]
    }
   ],
   "source": [
    "x= int(input('Enter value of x(0-9):'))\n",
    "for y in range (0,10):\n",
    "     if x==y:\n",
    "          print(x, 'and', y, \"They are equal\") \n",
    "          break\n",
    "     else:\n",
    "            print( x, 'and', y, \"They are unequal\")"
   ]
  },
  {
   "cell_type": "code",
   "execution_count": null,
   "metadata": {},
   "outputs": [],
   "source": []
  }
 ],
 "metadata": {
  "colab": {
   "collapsed_sections": [],
   "name": "Q&A activity student file.ipynb",
   "provenance": []
  },
  "kernelspec": {
   "display_name": "Python 3",
   "language": "python",
   "name": "python3"
  },
  "language_info": {
   "codemirror_mode": {
    "name": "ipython",
    "version": 3
   },
   "file_extension": ".py",
   "mimetype": "text/x-python",
   "name": "python",
   "nbconvert_exporter": "python",
   "pygments_lexer": "ipython3",
   "version": "3.8.8"
  }
 },
 "nbformat": 4,
 "nbformat_minor": 1
}
