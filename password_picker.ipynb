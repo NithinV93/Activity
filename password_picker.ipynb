{
 "cells": [
  {
   "cell_type": "code",
   "execution_count": 5,
   "id": "a0e61fd2",
   "metadata": {},
   "outputs": [
    {
     "name": "stdout",
     "output_type": "stream",
     "text": [
      "bitterkollam! \n"
     ]
    }
   ],
   "source": [
    "import random\n",
    "\n",
    "adj=['bitter','sweet','salty','spicy','tangy','cold','rough','soft','smooth','dull']\n",
    "noun=['thrissur','ernakulam','kollam','trivandrum','kannur','hyderabad']\n",
    "num=list(range(0,999))\n",
    "pun=['!', '@','#','$','%','^']\n",
    "\n",
    "ad=random.choice(adj)\n",
    "no=random.choice(noun)\n",
    "nu=random.choice(str(num))\n",
    "pu=random.choice(pun)\n",
    "\n",
    "password=ad+no+pu+nu\n",
    "\n",
    "print(password)"
   ]
  },
  {
   "cell_type": "code",
   "execution_count": null,
   "id": "d8ffe405",
   "metadata": {},
   "outputs": [],
   "source": []
  },
  {
   "cell_type": "code",
   "execution_count": null,
   "id": "cbca765e",
   "metadata": {},
   "outputs": [],
   "source": []
  }
 ],
 "metadata": {
  "kernelspec": {
   "display_name": "Python 3",
   "language": "python",
   "name": "python3"
  },
  "language_info": {
   "codemirror_mode": {
    "name": "ipython",
    "version": 3
   },
   "file_extension": ".py",
   "mimetype": "text/x-python",
   "name": "python",
   "nbconvert_exporter": "python",
   "pygments_lexer": "ipython3",
   "version": "3.8.8"
  }
 },
 "nbformat": 4,
 "nbformat_minor": 5
}
